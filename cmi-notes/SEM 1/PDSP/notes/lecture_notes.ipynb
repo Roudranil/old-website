{
 "cells": [
  {
   "cell_type": "markdown",
   "metadata": {},
   "source": [
    "### Lecture 2 (04/08/2022)"
   ]
  },
  {
   "cell_type": "code",
   "execution_count": 16,
   "metadata": {},
   "outputs": [],
   "source": [
    "import random\n",
    "import numpy as np"
   ]
  },
  {
   "cell_type": "code",
   "execution_count": 29,
   "metadata": {},
   "outputs": [],
   "source": [
    "year = ([\"2020-21\"] * 35) + ([\"2021-22\"] * 38)\n",
    "all_courses = [\"B.Sc\", \"M.Sc DS\", \"M.Sc CS\", \"M.Sc MA\"]\n",
    "course = random.choices(all_courses, weights=[1, 5, 2, 1], k=73)\n",
    "all_domains = [\"Banking-Finance\", \"Logistics\", \"CS\", \"IT\", \"Pharma\"]\n",
    "domain = random.choices(all_domains, k=73)\n",
    "pay_package = np.random.randint(3, 30, size=73) * 100000"
   ]
  },
  {
   "cell_type": "code",
   "execution_count": 30,
   "metadata": {},
   "outputs": [],
   "source": [
    "plist = [(year[i], course[i], domain[i], pay_package[i]) for i in range(50)]"
   ]
  },
  {
   "cell_type": "code",
   "execution_count": 31,
   "metadata": {},
   "outputs": [
    {
     "data": {
      "text/plain": [
       "[('2020-21', 'M.Sc DS', 'IT', 1100000),\n",
       " ('2020-21', 'M.Sc DS', 'CS', 1500000),\n",
       " ('2020-21', 'M.Sc CS', 'Banking-Finance', 500000),\n",
       " ('2020-21', 'M.Sc MA', 'Pharma', 1500000),\n",
       " ('2020-21', 'M.Sc CS', 'CS', 2400000),\n",
       " ('2020-21', 'M.Sc CS', 'CS', 500000),\n",
       " ('2020-21', 'M.Sc DS', 'Banking-Finance', 1500000),\n",
       " ('2020-21', 'M.Sc CS', 'Pharma', 2600000),\n",
       " ('2020-21', 'M.Sc MA', 'IT', 600000),\n",
       " ('2020-21', 'M.Sc DS', 'IT', 1800000),\n",
       " ('2020-21', 'M.Sc DS', 'Logistics', 400000),\n",
       " ('2020-21', 'M.Sc DS', 'CS', 2300000),\n",
       " ('2020-21', 'M.Sc CS', 'CS', 1600000),\n",
       " ('2020-21', 'M.Sc DS', 'Logistics', 2000000),\n",
       " ('2020-21', 'M.Sc DS', 'IT', 2400000),\n",
       " ('2020-21', 'M.Sc CS', 'Banking-Finance', 2900000),\n",
       " ('2020-21', 'M.Sc CS', 'Pharma', 1700000),\n",
       " ('2020-21', 'M.Sc DS', 'Pharma', 2600000),\n",
       " ('2020-21', 'M.Sc MA', 'Logistics', 2900000),\n",
       " ('2020-21', 'M.Sc DS', 'Logistics', 1900000),\n",
       " ('2020-21', 'B.Sc', 'IT', 1600000),\n",
       " ('2020-21', 'M.Sc CS', 'IT', 2400000),\n",
       " ('2020-21', 'M.Sc CS', 'Banking-Finance', 2600000),\n",
       " ('2020-21', 'M.Sc DS', 'CS', 900000),\n",
       " ('2020-21', 'M.Sc DS', 'IT', 1100000),\n",
       " ('2020-21', 'M.Sc DS', 'Banking-Finance', 1900000),\n",
       " ('2020-21', 'M.Sc DS', 'Pharma', 2400000),\n",
       " ('2020-21', 'M.Sc DS', 'IT', 2400000),\n",
       " ('2020-21', 'M.Sc DS', 'IT', 1700000),\n",
       " ('2020-21', 'M.Sc DS', 'Pharma', 1100000),\n",
       " ('2020-21', 'M.Sc CS', 'Pharma', 1600000),\n",
       " ('2020-21', 'B.Sc', 'IT', 1600000),\n",
       " ('2020-21', 'M.Sc MA', 'CS', 500000),\n",
       " ('2020-21', 'M.Sc DS', 'Pharma', 1100000),\n",
       " ('2020-21', 'M.Sc CS', 'IT', 2900000),\n",
       " ('2021-22', 'M.Sc DS', 'IT', 2200000),\n",
       " ('2021-22', 'M.Sc DS', 'CS', 2900000),\n",
       " ('2021-22', 'M.Sc DS', 'Logistics', 1600000),\n",
       " ('2021-22', 'M.Sc DS', 'Pharma', 400000),\n",
       " ('2021-22', 'M.Sc CS', 'Pharma', 900000),\n",
       " ('2021-22', 'M.Sc DS', 'CS', 1200000),\n",
       " ('2021-22', 'M.Sc CS', 'CS', 1700000),\n",
       " ('2021-22', 'M.Sc CS', 'IT', 1500000),\n",
       " ('2021-22', 'M.Sc CS', 'Pharma', 300000),\n",
       " ('2021-22', 'M.Sc CS', 'Logistics', 1200000),\n",
       " ('2021-22', 'M.Sc CS', 'Banking-Finance', 1700000),\n",
       " ('2021-22', 'M.Sc DS', 'Logistics', 1800000),\n",
       " ('2021-22', 'M.Sc CS', 'Pharma', 2200000),\n",
       " ('2021-22', 'B.Sc', 'Pharma', 1700000),\n",
       " ('2021-22', 'M.Sc CS', 'Pharma', 500000)]"
      ]
     },
     "execution_count": 31,
     "metadata": {},
     "output_type": "execute_result"
    }
   ],
   "source": [
    "plist"
   ]
  },
  {
   "cell_type": "code",
   "execution_count": 32,
   "metadata": {},
   "outputs": [
    {
     "name": "stdout",
     "output_type": "stream",
     "text": [
      "50\n"
     ]
    }
   ],
   "source": [
    "# number of entries\n",
    "\n",
    "count = 0\n",
    "for row in plist:\n",
    "    count = count + 1\n",
    "print(count)"
   ]
  },
  {
   "cell_type": "code",
   "execution_count": 33,
   "metadata": {},
   "outputs": [
    {
     "name": "stdout",
     "output_type": "stream",
     "text": [
      "2900000\n"
     ]
    }
   ],
   "source": [
    "# maximum entry\n",
    "\n",
    "maxpay = plist[0][3]\n",
    "for row in plist:\n",
    "    thispay = row[3]\n",
    "    if thispay > maxpay:\n",
    "        maxpay = thispay\n",
    "print(maxpay)"
   ]
  },
  {
   "cell_type": "code",
   "execution_count": 25,
   "metadata": {},
   "outputs": [
    {
     "name": "stdout",
     "output_type": "stream",
     "text": [
      "76700000\n",
      "1534000.0\n"
     ]
    }
   ],
   "source": [
    "# Average\n",
    "\n",
    "sumpay = 0\n",
    "for row in plist:\n",
    "    sumpay = sumpay + row[3]\n",
    "\n",
    "print(sumpay)\n",
    "\n",
    "average = sumpay/count\n",
    "print(average)"
   ]
  },
  {
   "cell_type": "markdown",
   "metadata": {},
   "source": [
    "### 16 August 2022"
   ]
  },
  {
   "cell_type": "code",
   "execution_count": 1,
   "metadata": {},
   "outputs": [],
   "source": [
    "from math import *"
   ]
  },
  {
   "cell_type": "code",
   "execution_count": 2,
   "metadata": {},
   "outputs": [
    {
     "data": {
      "text/plain": [
       "0.9999625387017254"
      ]
     },
     "execution_count": 2,
     "metadata": {},
     "output_type": "execute_result"
    }
   ],
   "source": [
    "log(2.71818)"
   ]
  },
  {
   "cell_type": "code",
   "execution_count": 1,
   "metadata": {},
   "outputs": [
    {
     "data": {
      "text/plain": [
       "506470104485618930545274704870272602283938237278635903874283341873152"
      ]
     },
     "execution_count": 1,
     "metadata": {},
     "output_type": "execute_result"
    }
   ],
   "source": [
    "x = 2**84 # wont fit in 64 bits\n",
    "y = 3**91\n",
    "x * y"
   ]
  },
  {
   "cell_type": "code",
   "execution_count": 11,
   "metadata": {},
   "outputs": [],
   "source": [
    "x = 50000000\n",
    "n = 10**x\n",
    "n_in_str = str(n)\n",
    "print(x, len(n_in_str)-1)"
   ]
  },
  {
   "cell_type": "code",
   "execution_count": 7,
   "metadata": {},
   "outputs": [],
   "source": [
    "def func():\n",
    "    print(\"before return\")\n",
    "    return 1\n",
    "    print(\"after return\")"
   ]
  },
  {
   "cell_type": "code",
   "execution_count": 8,
   "metadata": {},
   "outputs": [
    {
     "name": "stdout",
     "output_type": "stream",
     "text": [
      "before return\n"
     ]
    },
    {
     "data": {
      "text/plain": [
       "1"
      ]
     },
     "execution_count": 8,
     "metadata": {},
     "output_type": "execute_result"
    }
   ],
   "source": [
    "func()"
   ]
  },
  {
   "cell_type": "code",
   "execution_count": 1,
   "metadata": {},
   "outputs": [],
   "source": [
    "\n",
    "data = 5"
   ]
  },
  {
   "cell_type": "markdown",
   "metadata": {},
   "source": [
    "### 18 August 2022"
   ]
  },
  {
   "cell_type": "code",
   "execution_count": 2,
   "metadata": {},
   "outputs": [],
   "source": [
    "import numpy as np"
   ]
  },
  {
   "cell_type": "code",
   "execution_count": 7,
   "metadata": {},
   "outputs": [
    {
     "data": {
      "text/plain": [
       "[1, 2, 3, 4, 4, 5]"
      ]
     },
     "execution_count": 7,
     "metadata": {},
     "output_type": "execute_result"
    }
   ],
   "source": [
    "a = [1,2,3,4]\n",
    "b = [4,5]\n",
    "a + b"
   ]
  },
  {
   "cell_type": "code",
   "execution_count": 8,
   "metadata": {},
   "outputs": [
    {
     "ename": "ValueError",
     "evalue": "operands could not be broadcast together with shapes (4,) (2,) ",
     "output_type": "error",
     "traceback": [
      "\u001b[1;31m---------------------------------------------------------------------------\u001b[0m",
      "\u001b[1;31mValueError\u001b[0m                                Traceback (most recent call last)",
      "\u001b[1;32md:\\books and notes\\CMI\\NOTES\\SEM 1\\PDSP\\lecture_notes.ipynb Cell 20\u001b[0m in \u001b[0;36m<cell line: 4>\u001b[1;34m()\u001b[0m\n\u001b[0;32m      <a href='vscode-notebook-cell:/d%3A/books%20and%20notes/CMI/NOTES/SEM%201/PDSP/lecture_notes.ipynb#X26sZmlsZQ%3D%3D?line=0'>1</a>\u001b[0m c \u001b[39m=\u001b[39m np\u001b[39m.\u001b[39marray(a)\n\u001b[0;32m      <a href='vscode-notebook-cell:/d%3A/books%20and%20notes/CMI/NOTES/SEM%201/PDSP/lecture_notes.ipynb#X26sZmlsZQ%3D%3D?line=1'>2</a>\u001b[0m d \u001b[39m=\u001b[39m np\u001b[39m.\u001b[39marray(b)\n\u001b[1;32m----> <a href='vscode-notebook-cell:/d%3A/books%20and%20notes/CMI/NOTES/SEM%201/PDSP/lecture_notes.ipynb#X26sZmlsZQ%3D%3D?line=3'>4</a>\u001b[0m c \u001b[39m+\u001b[39;49m d\n",
      "\u001b[1;31mValueError\u001b[0m: operands could not be broadcast together with shapes (4,) (2,) "
     ]
    }
   ],
   "source": [
    "c = np.array(a)\n",
    "d = np.array(b)\n",
    "\n",
    "c + d"
   ]
  },
  {
   "cell_type": "code",
   "execution_count": 10,
   "metadata": {},
   "outputs": [],
   "source": [
    "a = a.append(5)"
   ]
  },
  {
   "cell_type": "code",
   "execution_count": 11,
   "metadata": {},
   "outputs": [],
   "source": [
    "a"
   ]
  },
  {
   "cell_type": "code",
   "execution_count": 12,
   "metadata": {},
   "outputs": [
    {
     "data": {
      "text/plain": [
       "True"
      ]
     },
     "execution_count": 12,
     "metadata": {},
     "output_type": "execute_result"
    }
   ],
   "source": [
    "a == None"
   ]
  },
  {
   "cell_type": "markdown",
   "metadata": {},
   "source": [
    "### 23 August 2022"
   ]
  },
  {
   "cell_type": "code",
   "execution_count": 1,
   "metadata": {},
   "outputs": [
    {
     "ename": "NameError",
     "evalue": "name 'a' is not defined",
     "output_type": "error",
     "traceback": [
      "\u001b[1;31m---------------------------------------------------------------------------\u001b[0m",
      "\u001b[1;31mNameError\u001b[0m                                 Traceback (most recent call last)",
      "\u001b[1;32md:\\books and notes\\CMI\\NOTES\\SEM 1\\PDSP\\lecture_notes.ipynb Cell 25\u001b[0m in \u001b[0;36m<cell line: 2>\u001b[1;34m()\u001b[0m\n\u001b[0;32m      <a href='vscode-notebook-cell:/d%3A/books%20and%20notes/CMI/NOTES/SEM%201/PDSP/lecture_notes.ipynb#X32sZmlsZQ%3D%3D?line=0'>1</a>\u001b[0m x \u001b[39m=\u001b[39m \u001b[39m1\u001b[39m\n\u001b[1;32m----> <a href='vscode-notebook-cell:/d%3A/books%20and%20notes/CMI/NOTES/SEM%201/PDSP/lecture_notes.ipynb#X32sZmlsZQ%3D%3D?line=1'>2</a>\u001b[0m x \u001b[39m>\u001b[39m\u001b[39m=\u001b[39m a\n",
      "\u001b[1;31mNameError\u001b[0m: name 'a' is not defined"
     ]
    }
   ],
   "source": [
    "x = 1\n",
    "x >= a"
   ]
  },
  {
   "cell_type": "code",
   "execution_count": 6,
   "metadata": {},
   "outputs": [],
   "source": [
    "a = str()"
   ]
  },
  {
   "cell_type": "code",
   "execution_count": 7,
   "metadata": {},
   "outputs": [
    {
     "data": {
      "text/plain": [
       "''"
      ]
     },
     "execution_count": 7,
     "metadata": {},
     "output_type": "execute_result"
    }
   ],
   "source": [
    "a"
   ]
  },
  {
   "cell_type": "code",
   "execution_count": null,
   "metadata": {},
   "outputs": [],
   "source": []
  },
  {
   "cell_type": "markdown",
   "metadata": {},
   "source": [
    "### 25 august 2022"
   ]
  },
  {
   "cell_type": "code",
   "execution_count": 3,
   "metadata": {},
   "outputs": [
    {
     "data": {
      "text/plain": [
       "([4, 2, 3], [4, 2, 3])"
      ]
     },
     "execution_count": 3,
     "metadata": {},
     "output_type": "execute_result"
    }
   ],
   "source": [
    "l1 = [1,2,3]\n",
    "l2 = l1\n",
    "l1[0] = 4\n",
    "l1, l2"
   ]
  },
  {
   "cell_type": "code",
   "execution_count": 8,
   "metadata": {},
   "outputs": [
    {
     "ename": "NameError",
     "evalue": "name '__sorted__' is not defined",
     "output_type": "error",
     "traceback": [
      "\u001b[1;31m---------------------------------------------------------------------------\u001b[0m",
      "\u001b[1;31mNameError\u001b[0m                                 Traceback (most recent call last)",
      "\u001b[1;32md:\\books and notes\\CMI\\NOTES\\SEM 1\\PDSP\\lecture_notes.ipynb Cell 31\u001b[0m in \u001b[0;36m<cell line: 2>\u001b[1;34m()\u001b[0m\n\u001b[0;32m      <a href='vscode-notebook-cell:/d%3A/books%20and%20notes/CMI/NOTES/SEM%201/PDSP/lecture_notes.ipynb#X45sZmlsZQ%3D%3D?line=0'>1</a>\u001b[0m l \u001b[39m=\u001b[39m [\u001b[39m\"\u001b[39m\u001b[39ma\u001b[39m\u001b[39m\"\u001b[39m, \u001b[39m1\u001b[39m, \u001b[39m\"\u001b[39m\u001b[39mhello\u001b[39m\u001b[39m\"\u001b[39m]\n\u001b[1;32m----> <a href='vscode-notebook-cell:/d%3A/books%20and%20notes/CMI/NOTES/SEM%201/PDSP/lecture_notes.ipynb#X45sZmlsZQ%3D%3D?line=1'>2</a>\u001b[0m __sorted__(l)\n",
      "\u001b[1;31mNameError\u001b[0m: name '__sorted__' is not defined"
     ]
    }
   ],
   "source": [
    "l = [\"a\", 1, \"hello\"]\n",
    "sorted(l)"
   ]
  },
  {
   "cell_type": "code",
   "execution_count": 11,
   "metadata": {},
   "outputs": [],
   "source": [
    "a = 3\n",
    "b = 5\n",
    "(a, b) = (b, a)"
   ]
  },
  {
   "cell_type": "code",
   "execution_count": 12,
   "metadata": {},
   "outputs": [
    {
     "data": {
      "text/plain": [
       "5"
      ]
     },
     "execution_count": 12,
     "metadata": {},
     "output_type": "execute_result"
    }
   ],
   "source": [
    "a"
   ]
  },
  {
   "cell_type": "code",
   "execution_count": 15,
   "metadata": {},
   "outputs": [
    {
     "ename": "TypeError",
     "evalue": "'dict_keys' object is not subscriptable",
     "output_type": "error",
     "traceback": [
      "\u001b[1;31m---------------------------------------------------------------------------\u001b[0m",
      "\u001b[1;31mTypeError\u001b[0m                                 Traceback (most recent call last)",
      "\u001b[1;32md:\\books and notes\\CMI\\NOTES\\SEM 1\\PDSP\\lecture_notes.ipynb Cell 34\u001b[0m in \u001b[0;36m<cell line: 2>\u001b[1;34m()\u001b[0m\n\u001b[0;32m      <a href='vscode-notebook-cell:/d%3A/books%20and%20notes/CMI/NOTES/SEM%201/PDSP/lecture_notes.ipynb#X52sZmlsZQ%3D%3D?line=0'>1</a>\u001b[0m d \u001b[39m=\u001b[39m {\u001b[39m\"\u001b[39m\u001b[39ma\u001b[39m\u001b[39m\"\u001b[39m : \u001b[39m1\u001b[39m, \u001b[39m\"\u001b[39m\u001b[39mb\u001b[39m\u001b[39m\"\u001b[39m:\u001b[39m2\u001b[39m, \u001b[39m\"\u001b[39m\u001b[39mc\u001b[39m\u001b[39m\"\u001b[39m:\u001b[39m3\u001b[39m, \u001b[39m\"\u001b[39m\u001b[39md\u001b[39m\u001b[39m\"\u001b[39m:\u001b[39m4\u001b[39m, \u001b[39m\"\u001b[39m\u001b[39me\u001b[39m\u001b[39m\"\u001b[39m:\u001b[39m5\u001b[39m}\n\u001b[1;32m----> <a href='vscode-notebook-cell:/d%3A/books%20and%20notes/CMI/NOTES/SEM%201/PDSP/lecture_notes.ipynb#X52sZmlsZQ%3D%3D?line=1'>2</a>\u001b[0m d[d\u001b[39m.\u001b[39;49mkeys()[\u001b[39m1\u001b[39;49m:\u001b[39m4\u001b[39;49m]]\n",
      "\u001b[1;31mTypeError\u001b[0m: 'dict_keys' object is not subscriptable"
     ]
    }
   ],
   "source": [
    "d = {\"a\" : 1, \"b\":2, \"c\":3, \"d\":4, \"e\":5}\n",
    "d[d.keys()[1:4]]"
   ]
  },
  {
   "cell_type": "code",
   "execution_count": 2,
   "metadata": {},
   "outputs": [
    {
     "name": "stdout",
     "output_type": "stream",
     "text": [
      "dict_keys(['b', 'a'])\n",
      "dict_keys(['b', 'a'])\n"
     ]
    }
   ],
   "source": [
    "d = {}\n",
    "d['b'] = 1\n",
    "d['a'] = 2\n",
    "print(d.keys())\n",
    "d['b'] = 3\n",
    "print(d.keys())"
   ]
  },
  {
   "cell_type": "code",
   "execution_count": null,
   "metadata": {},
   "outputs": [],
   "source": []
  },
  {
   "cell_type": "markdown",
   "metadata": {},
   "source": [
    "### 1 September 2022"
   ]
  },
  {
   "cell_type": "markdown",
   "metadata": {},
   "source": [
    "measuring performance time of `append` and `insert`"
   ]
  },
  {
   "cell_type": "code",
   "execution_count": 1,
   "metadata": {},
   "outputs": [],
   "source": [
    "import time"
   ]
  },
  {
   "cell_type": "markdown",
   "metadata": {},
   "source": [
    "$10^7$ `appends to the beginning of a python list`"
   ]
  },
  {
   "cell_type": "code",
   "execution_count": 5,
   "metadata": {},
   "outputs": [
    {
     "name": "stdout",
     "output_type": "stream",
     "text": [
      "1.2642286999616772\n"
     ]
    }
   ],
   "source": [
    "start = time.perf_counter()\n",
    "l = []\n",
    "for i in range(10000000):\n",
    "    l.append(i)\n",
    "\n",
    "elapsed = time.perf_counter() - start\n",
    "print(elapsed)"
   ]
  },
  {
   "cell_type": "markdown",
   "metadata": {},
   "source": [
    "$3\\times 10^5$ `inserts at the beginning of a python list`"
   ]
  },
  {
   "cell_type": "code",
   "execution_count": 6,
   "metadata": {},
   "outputs": [
    {
     "name": "stdout",
     "output_type": "stream",
     "text": [
      "13.678336399956606\n"
     ]
    }
   ],
   "source": [
    "start = time.perf_counter()\n",
    "l = []\n",
    "for i in range(300000):\n",
    "    l.insert(0,i)\n",
    "\n",
    "elapsed = time.perf_counter() - start\n",
    "print(elapsed)"
   ]
  },
  {
   "cell_type": "markdown",
   "metadata": {},
   "source": [
    "Creating $10^7$ entries in an empty dictionary"
   ]
  },
  {
   "cell_type": "code",
   "execution_count": 8,
   "metadata": {},
   "outputs": [
    {
     "name": "stdout",
     "output_type": "stream",
     "text": [
      "1.1101277000270784\n"
     ]
    }
   ],
   "source": [
    "start = time.perf_counter()\n",
    "d = {}\n",
    "for i in range(10000000, 0 ,-1):\n",
    "    d[i] = i\n",
    "elapsed = time.perf_counter() - start\n",
    "print(elapsed)"
   ]
  },
  {
   "cell_type": "markdown",
   "metadata": {},
   "source": [
    "Implementing a \"real\" list using dictionary"
   ]
  },
  {
   "cell_type": "code",
   "execution_count": 9,
   "metadata": {},
   "outputs": [],
   "source": [
    "def createlist(): # Equivalent of l = [] is l = createlist()\n",
    "    return({})\n",
    "    \n",
    "def listappend(l,x):\n",
    "    if l == {}:\n",
    "        l[\"value\"] = x\n",
    "        l[\"next\"] = {}\n",
    "        return\n",
    "\n",
    "    node = l\n",
    "    while node[\"next\"] != {}:\n",
    "        node = node[\"next\"]\n",
    "\n",
    "    node[\"next\"][\"value\"] = x\n",
    "    node[\"next\"][\"next\"] = {}\n",
    "    return\n",
    "\n",
    "def listinsert(l,x):\n",
    "    if l == {}:\n",
    "        l[\"value\"] = x\n",
    "        l[\"next\"] = {}\n",
    "        return\n",
    "    newnode = {}\n",
    "    newnode[\"value\"] = l[\"value\"]\n",
    "    newnode[\"next\"] = l[\"next\"]\n",
    "    l[\"value\"] = x\n",
    "    l[\"next\"] = newnode\n",
    "    return\n",
    "\n",
    "def printlist(l):\n",
    "    print(\"{\",end=\"\")\n",
    "    if l == {}:\n",
    "        print(\"}\")\n",
    "        return\n",
    "    node = l\n",
    "    print(node[\"value\"],end=\"\")\n",
    "    while node[\"next\"] != {}:\n",
    "        node = node[\"next\"]\n",
    "        print(\",\",node[\"value\"],end=\"\")\n",
    "    print(\"}\")\n",
    "    return\n"
   ]
  },
  {
   "cell_type": "markdown",
   "metadata": {},
   "source": []
  },
  {
   "cell_type": "code",
   "execution_count": 1,
   "metadata": {},
   "outputs": [],
   "source": [
    "class Something:\n",
    "    def fkjkdfj(self):\n",
    "        print(\"kdfgkjd\")"
   ]
  },
  {
   "cell_type": "markdown",
   "metadata": {},
   "source": [
    "## September 15, 2022"
   ]
  },
  {
   "cell_type": "code",
   "execution_count": 3,
   "metadata": {},
   "outputs": [
    {
     "data": {
      "text/plain": [
       "'[1, 2]'"
      ]
     },
     "execution_count": 3,
     "metadata": {},
     "output_type": "execute_result"
    }
   ],
   "source": [
    "l = [1,2]\n",
    "str(l)"
   ]
  },
  {
   "cell_type": "code",
   "execution_count": null,
   "metadata": {},
   "outputs": [],
   "source": []
  }
 ],
 "metadata": {
  "kernelspec": {
   "display_name": "Python 3.10.6 64-bit",
   "language": "python",
   "name": "python3"
  },
  "language_info": {
   "codemirror_mode": {
    "name": "ipython",
    "version": 3
   },
   "file_extension": ".py",
   "mimetype": "text/x-python",
   "name": "python",
   "nbconvert_exporter": "python",
   "pygments_lexer": "ipython3",
   "version": "3.10.6"
  },
  "orig_nbformat": 4,
  "vscode": {
   "interpreter": {
    "hash": "d25902f113cb4dbd517154651829d71a667e371374905448337c195d86b0b7cb"
   }
  }
 },
 "nbformat": 4,
 "nbformat_minor": 2
}
